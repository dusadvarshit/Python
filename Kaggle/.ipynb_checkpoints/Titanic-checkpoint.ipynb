{
 "cells": [
  {
   "cell_type": "code",
   "execution_count": 1,
   "metadata": {
    "_cell_guid": "b1076dfc-b9ad-4769-8c92-a6c4dae69d19",
    "_uuid": "8f2839f25d086af736a60e9eeb907d3b93b6e0e5",
    "collapsed": false
   },
   "outputs": [
    {
     "ename": "FileNotFoundError",
     "evalue": "[WinError 3] The system cannot find the path specified: '../input'",
     "output_type": "error",
     "traceback": [
      "\u001b[0;31m---------------------------------------------------------------------------\u001b[0m",
      "\u001b[0;31mFileNotFoundError\u001b[0m                         Traceback (most recent call last)",
      "\u001b[0;32m<ipython-input-1-8ceee4de4c65>\u001b[0m in \u001b[0;36m<module>\u001b[0;34m()\u001b[0m\n\u001b[1;32m     10\u001b[0m \u001b[1;33m\u001b[0m\u001b[0m\n\u001b[1;32m     11\u001b[0m \u001b[1;32mimport\u001b[0m \u001b[0mos\u001b[0m\u001b[1;33m\u001b[0m\u001b[0m\n\u001b[0;32m---> 12\u001b[0;31m \u001b[0mprint\u001b[0m\u001b[1;33m(\u001b[0m\u001b[0mos\u001b[0m\u001b[1;33m.\u001b[0m\u001b[0mlistdir\u001b[0m\u001b[1;33m(\u001b[0m\u001b[1;34m\"../input\"\u001b[0m\u001b[1;33m)\u001b[0m\u001b[1;33m)\u001b[0m\u001b[1;33m\u001b[0m\u001b[0m\n\u001b[0m\u001b[1;32m     13\u001b[0m \u001b[1;33m\u001b[0m\u001b[0m\n\u001b[1;32m     14\u001b[0m \u001b[1;31m# Any results you write to the current directory are saved as output.\u001b[0m\u001b[1;33m\u001b[0m\u001b[1;33m\u001b[0m\u001b[0m\n",
      "\u001b[0;31mFileNotFoundError\u001b[0m: [WinError 3] The system cannot find the path specified: '../input'"
     ]
    }
   ],
   "source": [
    "# This Python 3 environment comes with many helpful analytics libraries installed\n",
    "# It is defined by the kaggle/python docker image: https://github.com/kaggle/docker-python\n",
    "# For example, here's several helpful packages to load in \n",
    "\n",
    "import numpy as np # linear algebra\n",
    "import pandas as pd # data processing, CSV file I/O (e.g. pd.read_csv)\n",
    "\n",
    "# Input data files are available in the \"../input/\" directory.\n",
    "# For example, running this (by clicking run or pressing Shift+Enter) will list the files in the input directory\n",
    "\n",
    "import os\n",
    "#print(os.listdir(\"../input\"))\n",
    "\n",
    "# Any results you write to the current directory are saved as output."
   ]
  },
  {
   "cell_type": "code",
   "execution_count": null,
   "metadata": {
    "_cell_guid": "79c7e3d0-c299-4dcb-8224-4455121ee9b0",
    "_uuid": "d629ff2d2480ee46fbb7e2d37f6b5fab8052498a",
    "collapsed": true
   },
   "outputs": [],
   "source": [
    "import random\n",
    "import matplotlib.pyplot as plt\n",
    "from sklearn.metrics import accuracy_score\n",
    "from sklearn.model_selection import train_test_split\n",
    "from sklearn.tree import DecisionTreeClassifier"
   ]
  },
  {
   "cell_type": "code",
   "execution_count": null,
   "metadata": {
    "_cell_guid": "66e571db-7268-42fd-b125-1accbebbf1c3",
    "_uuid": "c7be8f5a3cf12b0d952ef292ba40ade9cdfcbd6a",
    "collapsed": true
   },
   "outputs": [],
   "source": [
    "print(\"Hello, World!!\") #Tester code. Newbie here!"
   ]
  },
  {
   "cell_type": "code",
   "execution_count": null,
   "metadata": {
    "_cell_guid": "93efcda3-b2ba-4a95-b16f-c66596703657",
    "_uuid": "c4f5abc66120e0c350e46cd00668de4135759aa8",
    "collapsed": true
   },
   "outputs": [],
   "source": [
    "print(\"The task here is to apply machine learning to develop a classifier to identify which traveler could survive and which could not.\")"
   ]
  },
  {
   "cell_type": "code",
   "execution_count": null,
   "metadata": {
    "_cell_guid": "3a644c9d-fcdb-4203-8038-60bfce347652",
    "_uuid": "79cac4334d701a0bd84f2b1665ab7c0f25ce67c3",
    "collapsed": true
   },
   "outputs": [],
   "source": [
    "data = pd.read_csv('../input/gender_submission.csv')\n",
    "test_data = pd.read_csv('../input/test.csv')\n",
    "train_data = pd.read_csv('../input/train.csv')"
   ]
  },
  {
   "cell_type": "code",
   "execution_count": null,
   "metadata": {
    "_cell_guid": "bfec8074-ca91-4666-9f45-f540a5d57d4b",
    "_uuid": "7adba60aaf601322bd099e532f586a1c97f0f349",
    "collapsed": true
   },
   "outputs": [],
   "source": [
    "#print(train_data['Parch'].unique().tolist())\n",
    "train_data.head(10)\n",
    "#train_data[train_data['Name'].str.contains('Johnson')] #==2]\n",
    "# Step1 is to explore the data and then clean the data (generally drop Nan valued rows)"
   ]
  },
  {
   "cell_type": "code",
   "execution_count": null,
   "metadata": {
    "_cell_guid": "af85940d-4c5d-43ad-8953-67ad29294d45",
    "_uuid": "985f19183195786603baec60b1515c953a997a01",
    "collapsed": true
   },
   "outputs": [],
   "source": [
    "# Which variables can make an impact on survival: PClass (economic status), Sex (Females likely to get lifeboat; \n",
    "# Sexism thou other name is Chivalry!), Age (children and aged people might be preferred or older people might be)\n",
    "# left behind {No boat for old men}), SibSp (siblings and spouses survival/death may be correlated), \n",
    "# Fare (economic class proxy again. Though doubtful if it can give any more info than Pclass), Parch (Nannies may)\n",
    "# abandon the kids but parents will not. Children travelling with nanny are prone to death.\n",
    "\n",
    "## Which variables should be irrelevant for survival: PassengerId, Name (semi-useful as sir names can identify \n",
    "# family), Ticket (Redundant or useless information), \n"
   ]
  },
  {
   "cell_type": "code",
   "execution_count": null,
   "metadata": {
    "_cell_guid": "11c1500c-e3ab-41ec-acdb-a55fdfe3871d",
    "_uuid": "23d7dfd521a1cfc0b99257f4c3f44665b5defbf3",
    "collapsed": true
   },
   "outputs": [],
   "source": [
    "# Explore the histogram of survival.\n",
    "plt.hist(train_data['Survived'].values, 10, normed=False, facecolor='green')\n",
    "\n",
    "plt.xlabel('Survived: 1, Died: 0')\n",
    "plt.ylabel('# of People')\n",
    "plt.title('Histogram Example')\n",
    "\n",
    "plt.grid(True)\n",
    "plt.show()"
   ]
  },
  {
   "cell_type": "code",
   "execution_count": null,
   "metadata": {
    "_cell_guid": "6f461654-c84e-4968-b55c-64dbf35d21bf",
    "_uuid": "10da967bbc20d606ad57081355170ac35215a547",
    "collapsed": true
   },
   "outputs": [],
   "source": [
    "# Identify the length of training data\n",
    "train_data.shape"
   ]
  },
  {
   "cell_type": "code",
   "execution_count": null,
   "metadata": {
    "_cell_guid": "fce5e3dd-20a8-4a8f-bc75-a4132fa200f5",
    "_uuid": "672feb24533c6778f7f396dde3686e089274fc5d",
    "collapsed": true
   },
   "outputs": [],
   "source": [
    "# Plot Bar plot for both sexes corresponding to their deaths and survival.\n",
    "# Extract data values.\n",
    "female =  train_data['Sex'].str.contains('female')\n",
    "male =  (train_data['Sex'] == 'male')\n",
    "survived = train_data['Survived'].values == 1\n",
    "died = train_data['Survived'].values == 0\n",
    "\n",
    "female_death = train_data[female & died]\n",
    "male_death = train_data[male & died]\n",
    "female_survived = train_data[female & survived]\n",
    "male_survived = train_data[male & survived]\n",
    "\n",
    "plt.bar(['F: Died', 'F: Survived','M: Died', 'M: Survived'], [len(female_death),len(female_survived),len(male_death),len(male_survived)] ,align='center')\n",
    "plt.xlabel('Distribution of survival by sex')\n",
    "plt.ylabel('# of People')\n",
    "plt.title('Barplot example')\n",
    "\n",
    "plt.grid(True)\n",
    "plt.show()\n",
    "len(female_death)+len(female_survived)+len(male_death)+len(male_survived)\n",
    "#[len(female_death),len(female_survived),len(male_death),len(male_survived)]\n"
   ]
  },
  {
   "cell_type": "code",
   "execution_count": null,
   "metadata": {
    "_cell_guid": "9d1b27ff-390e-4d25-a866-5596bf442de0",
    "_uuid": "eae7a36532e373036d02a47f008644a3a28a4c71",
    "collapsed": true
   },
   "outputs": [],
   "source": [
    "# PLot survival with respect to age groups: (0-18,18-50,>50)\n",
    "survived = train_data['Survived'].values == 1\n",
    "died = train_data['Survived'].values == 0\n",
    "\n",
    "children = train_data['Age']<18\n",
    "adult = (train_data['Age']<50) & (train_data['Age']>=18)\n",
    "#adult2 = train_data['Age']>=18\n",
    "#adult = train_data[adult1]\n",
    "#adult\n",
    "old = train_data['Age']>=50\n",
    "\n",
    "children_died = train_data[children & died]\n",
    "children_survived = train_data[children & survived]\n",
    "adult_died = train_data[adult & died]\n",
    "adult_survived = train_data[adult & survived]\n",
    "old_died = train_data[old & died]\n",
    "old_survived = train_data[old & survived]\n",
    "\n",
    "plt.bar(['C: Died', 'C: Survived','A: Died', 'A: Survived', 'O: Died', 'O: Survived'], [len(children_died),len(children_survived),len(adult_died),len(adult_survived),len(old_died),len(old_survived)] ,align='center')\n",
    "plt.xlabel('Distribution of survival by Age groups')\n",
    "plt.ylabel('# of People')\n",
    "plt.title('Barplot example')\n",
    "\n",
    "plt.grid(True)\n",
    "plt.show()\n",
    "# The sum of all these values do not add upto 891 because there are values with NaN in ages.\n",
    "[len(children_died),len(children_survived),len(adult_died),len(adult_survived),len(old_died),len(old_survived)]\n",
    "train_data[adult].mean()"
   ]
  },
  {
   "cell_type": "code",
   "execution_count": null,
   "metadata": {
    "_cell_guid": "9cdf6654-63f9-4c0b-866e-8c23fae81ad1",
    "_uuid": "221b3895b17a02d9538cc81ee1e75bfdfbf72490",
    "collapsed": true
   },
   "outputs": [],
   "source": [
    "# train_data['Pclass'].isnull().values\n",
    "# Survival rate by Passenger class\n",
    "class_3 = train_data['Pclass'] == 3\n",
    "class_2 = train_data['Pclass'] == 2\n",
    "class_1 = train_data['Pclass'] == 1\n",
    "\n",
    "class_3_died = train_data[class_3 & died]\n",
    "class_3_survived = train_data[class_3 & survived]\n",
    "class_2_died = train_data[class_2 & died]\n",
    "class_2_survived = train_data[class_2 & survived]\n",
    "class_1_died = train_data[class_1 & died]\n",
    "class_1_survived = train_data[class_1 & survived]\n",
    "\n",
    "plt.bar(['3: Died', '3: Survived','2: Died', '2: Survived', '1: Died', '1: Survived'], [len(class_3_died),len(class_3_survived),len(class_2_died),len(class_2_survived),len(class_1_died),len(class_1_survived)] ,align='center')\n",
    "plt.xlabel('Distribution of survival by Passenger Class')\n",
    "plt.ylabel('# of People')\n",
    "plt.title('Barplot example')\n",
    "\n",
    "plt.grid(True)\n",
    "plt.show()"
   ]
  },
  {
   "cell_type": "code",
   "execution_count": null,
   "metadata": {
    "_uuid": "f737c0117d320d8f0806ff0db19e62147200f627",
    "collapsed": true
   },
   "outputs": [],
   "source": [
    "## Now let's build the classifier\n",
    "## Delete the columns providing redundant or unuseful information for survival classification\n",
    "useful_train_data =  train_data.copy()\n",
    "del useful_train_data['Ticket']\n",
    "del useful_train_data['Fare']\n",
    "del useful_train_data['Cabin']\n",
    "del useful_train_data['Embarked']\n",
    "useful_train_data.columns\n",
    "useful_train_data['Sex'] = (useful_train_data['Sex'] == 'male')*1"
   ]
  },
  {
   "cell_type": "code",
   "execution_count": null,
   "metadata": {
    "_uuid": "6d61bd6ea38a6a5f9275bef7f028fb0d58530cf9",
    "collapsed": true
   },
   "outputs": [],
   "source": [
    "## Drop any row which contains NaN values\n",
    "useful_train_data = useful_train_data.dropna()\n",
    "#useful_train_data['Age'].isnull().any()\n",
    "useful_train_data.columns"
   ]
  },
  {
   "cell_type": "code",
   "execution_count": null,
   "metadata": {
    "_uuid": "6ae9cbe18366595a3ee53812564fe38499f3e8ca",
    "collapsed": true
   },
   "outputs": [],
   "source": [
    "## \n",
    "y_train = useful_train_data['Survived'].copy()\n",
    "decisive_features = ['Pclass', 'Sex', 'Age', 'SibSp','Parch']\n",
    "X_train = useful_train_data[decisive_features].copy()\n"
   ]
  },
  {
   "cell_type": "code",
   "execution_count": null,
   "metadata": {
    "_uuid": "6b01c44c81b67337a17032c59f1988f830da162b",
    "collapsed": true
   },
   "outputs": [],
   "source": [
    "X_train"
   ]
  },
  {
   "cell_type": "code",
   "execution_count": null,
   "metadata": {
    "_uuid": "37261efe9683ec842e2ac67d451c8660fab2de4f",
    "collapsed": true
   },
   "outputs": [],
   "source": [
    "survival_classifier = DecisionTreeClassifier(max_leaf_nodes=10, random_state=0)\n",
    "survival_classifier.fit(X_train, y_train)"
   ]
  },
  {
   "cell_type": "code",
   "execution_count": null,
   "metadata": {
    "_uuid": "081c2f9026fd1755eec092c760c09bca85fd83c3",
    "collapsed": true
   },
   "outputs": [],
   "source": [
    "type(survival_classifier)"
   ]
  },
  {
   "cell_type": "code",
   "execution_count": null,
   "metadata": {
    "_uuid": "e634643af9e6b5c4969df21107ae66f84a66843e",
    "collapsed": true
   },
   "outputs": [],
   "source": [
    "## Predict the results on test data\n",
    "## First clean the test data also similar to train data\n",
    "test_data[test_data['Name'].str.contains('Master')]"
   ]
  },
  {
   "cell_type": "code",
   "execution_count": null,
   "metadata": {
    "_uuid": "4e370de88fbd358a7d0157825d96307c9bb2f03a",
    "collapsed": true
   },
   "outputs": [],
   "source": [
    "useful_test_data = test_data.copy()\n",
    "del useful_test_data['Ticket']\n",
    "del useful_test_data['Fare']\n",
    "del useful_test_data['Cabin']\n",
    "del useful_test_data['Embarked']\n",
    "useful_test_data.columns\n",
    "useful_test_data['Sex'] = (useful_test_data['Sex'] == 'male')*1\n",
    "\n",
    "## Do not Drop any row which contains NaN values\n",
    "#useful_test_data = useful_test_data.dropna()\n",
    "useful_test_data['Age'].isnull().any()\n",
    "#useful_test_data.columns\n",
    "## Fix null values\n",
    "null_child_boy = (useful_test_data['Name'].str.contains('Master') & useful_test_data['Age'].isnull())\n",
    "null_adult = ((useful_test_data['Name'].str.contains('Ms.') | useful_test_data['Name'].str.contains('Miss') | useful_test_data['Name'].str.contains('Mr'))& useful_test_data['Age'].isnull())\n",
    "useful_test_data.loc[null_child_boy, 'Age'] = 5#._update_inplace(30)\n",
    "#child_fix['Age']\n",
    "#adult_fix = useful_test_data.loc[null_adult]\n",
    "useful_test_data.loc[null_adult, 'Age'] = 30#._update_inplace(30)\n",
    "useful_test_data[useful_test_data['Name'].str.contains('Master')]\n",
    "\n",
    "useful_test_data.isnull().any()\n",
    "\n"
   ]
  },
  {
   "cell_type": "code",
   "execution_count": null,
   "metadata": {
    "_uuid": "fdb9eaceabb32a9f6e27aeb66b62eb7f1fdb7aaa",
    "collapsed": true
   },
   "outputs": [],
   "source": [
    "#y_test = useful_test_data['Survived'].copy()\n",
    "decisive_features = ['Pclass', 'Sex', 'Age', 'SibSp','Parch']\n",
    "X_test = useful_test_data[decisive_features].copy()\n"
   ]
  },
  {
   "cell_type": "code",
   "execution_count": null,
   "metadata": {
    "_uuid": "3297d2604eea602f3a341a359f3edda5cac4ee07",
    "collapsed": true
   },
   "outputs": [],
   "source": [
    "predictions = survival_classifier.predict(X_test)"
   ]
  },
  {
   "cell_type": "code",
   "execution_count": null,
   "metadata": {
    "_uuid": "217976a483ea53d4da17cff1bc96f3d20adb2a1b",
    "collapsed": true
   },
   "outputs": [],
   "source": [
    "data_to_submit = pd.DataFrame({'PassengerId': useful_test_data['PassengerId'], 'Survived': predictions})"
   ]
  },
  {
   "cell_type": "code",
   "execution_count": null,
   "metadata": {
    "_uuid": "048dfc7043d32014210b1bba54ee124702b1f080",
    "collapsed": true
   },
   "outputs": [],
   "source": [
    "data_to_submit.shape"
   ]
  },
  {
   "cell_type": "code",
   "execution_count": null,
   "metadata": {
    "_uuid": "1e75ec55ef1722b48b956f011aa8563515bbcdf7",
    "collapsed": true
   },
   "outputs": [],
   "source": [
    "data_to_submit.to_csv('csv_to_submit.csv', index = False)"
   ]
  },
  {
   "cell_type": "code",
   "execution_count": null,
   "metadata": {
    "_uuid": "eb0244c47ef7d439ff2e1951326cf751d91dede5",
    "collapsed": true
   },
   "outputs": [],
   "source": []
  }
 ],
 "metadata": {
  "anaconda-cloud": {},
  "kernelspec": {
   "display_name": "Python [default]",
   "language": "python",
   "name": "python3"
  },
  "language_info": {
   "codemirror_mode": {
    "name": "ipython",
    "version": 3
   },
   "file_extension": ".py",
   "mimetype": "text/x-python",
   "name": "python",
   "nbconvert_exporter": "python",
   "pygments_lexer": "ipython3",
   "version": "3.5.2"
  }
 },
 "nbformat": 4,
 "nbformat_minor": 1
}
