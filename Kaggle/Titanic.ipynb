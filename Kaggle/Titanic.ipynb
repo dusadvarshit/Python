{
  "cells": [
    {
      "metadata": {
        "_cell_guid": "b1076dfc-b9ad-4769-8c92-a6c4dae69d19",
        "_uuid": "8f2839f25d086af736a60e9eeb907d3b93b6e0e5",
        "trusted": true,
        "collapsed": true
      },
      "cell_type": "code",
      "source": "# This Python 3 environment comes with many helpful analytics libraries installed\n# It is defined by the kaggle/python docker image: https://github.com/kaggle/docker-python\n# For example, here's several helpful packages to load in \n\nimport numpy as np # linear algebra\nimport pandas as pd # data processing, CSV file I/O (e.g. pd.read_csv)\n\n# Input data files are available in the \"../input/\" directory.\n# For example, running this (by clicking run or pressing Shift+Enter) will list the files in the input directory\n\nimport os\nprint(os.listdir(\"../input\"))\n\n# Any results you write to the current directory are saved as output.",
      "execution_count": null,
      "outputs": []
    },
    {
      "metadata": {
        "_cell_guid": "79c7e3d0-c299-4dcb-8224-4455121ee9b0",
        "_uuid": "d629ff2d2480ee46fbb7e2d37f6b5fab8052498a",
        "collapsed": true,
        "trusted": true
      },
      "cell_type": "code",
      "source": "import random\nimport matplotlib.pyplot as plt\nfrom sklearn.metrics import accuracy_score\nfrom sklearn.model_selection import train_test_split\nfrom sklearn.tree import DecisionTreeClassifier",
      "execution_count": null,
      "outputs": []
    },
    {
      "metadata": {
        "_cell_guid": "66e571db-7268-42fd-b125-1accbebbf1c3",
        "_uuid": "c7be8f5a3cf12b0d952ef292ba40ade9cdfcbd6a",
        "trusted": true,
        "collapsed": true
      },
      "cell_type": "code",
      "source": "print(\"Hello, World!!\") #Tester code. Newbie here!",
      "execution_count": null,
      "outputs": []
    },
    {
      "metadata": {
        "_cell_guid": "93efcda3-b2ba-4a95-b16f-c66596703657",
        "_uuid": "c4f5abc66120e0c350e46cd00668de4135759aa8",
        "trusted": true,
        "collapsed": true
      },
      "cell_type": "code",
      "source": "print(\"The task here is to apply machine learning to develop a classifier to identify which traveler could survive and which could not.\")",
      "execution_count": null,
      "outputs": []
    },
    {
      "metadata": {
        "_cell_guid": "3a644c9d-fcdb-4203-8038-60bfce347652",
        "_uuid": "79cac4334d701a0bd84f2b1665ab7c0f25ce67c3",
        "collapsed": true,
        "trusted": true
      },
      "cell_type": "code",
      "source": "data = pd.read_csv('../input/gender_submission.csv')\ntest_data = pd.read_csv('../input/test.csv')\ntrain_data = pd.read_csv('../input/train.csv')",
      "execution_count": null,
      "outputs": []
    },
    {
      "metadata": {
        "_cell_guid": "bfec8074-ca91-4666-9f45-f540a5d57d4b",
        "_uuid": "7adba60aaf601322bd099e532f586a1c97f0f349",
        "trusted": true,
        "collapsed": true
      },
      "cell_type": "code",
      "source": "#print(train_data['Parch'].unique().tolist())\ntrain_data.head(10)\n#train_data[train_data['Name'].str.contains('Johnson')] #==2]\n# Step1 is to explore the data and then clean the data (generally drop Nan valued rows)",
      "execution_count": null,
      "outputs": []
    },
    {
      "metadata": {
        "_cell_guid": "af85940d-4c5d-43ad-8953-67ad29294d45",
        "_uuid": "985f19183195786603baec60b1515c953a997a01",
        "collapsed": true,
        "trusted": true
      },
      "cell_type": "code",
      "source": "# Which variables can make an impact on survival: PClass (economic status), Sex (Females likely to get lifeboat; \n# Sexism thou other name is Chivalry!), Age (children and aged people might be preferred or older people might be)\n# left behind {No boat for old men}), SibSp (siblings and spouses survival/death may be correlated), \n# Fare (economic class proxy again. Though doubtful if it can give any more info than Pclass), Parch (Nannies may)\n# abandon the kids but parents will not. Children travelling with nanny are prone to death.\n\n## Which variables should be irrelevant for survival: PassengerId, Name (semi-useful as sir names can identify \n# family), Ticket (Redundant or useless information), \n",
      "execution_count": null,
      "outputs": []
    },
    {
      "metadata": {
        "_cell_guid": "11c1500c-e3ab-41ec-acdb-a55fdfe3871d",
        "_uuid": "23d7dfd521a1cfc0b99257f4c3f44665b5defbf3",
        "trusted": true,
        "collapsed": true
      },
      "cell_type": "code",
      "source": "# Explore the histogram of survival.\nplt.hist(train_data['Survived'].values, 10, normed=False, facecolor='green')\n\nplt.xlabel('Survived: 1, Died: 0')\nplt.ylabel('# of People')\nplt.title('Histogram Example')\n\nplt.grid(True)\nplt.show()",
      "execution_count": null,
      "outputs": []
    },
    {
      "metadata": {
        "_cell_guid": "6f461654-c84e-4968-b55c-64dbf35d21bf",
        "_uuid": "10da967bbc20d606ad57081355170ac35215a547",
        "trusted": true,
        "collapsed": true
      },
      "cell_type": "code",
      "source": "# Identify the length of training data\ntrain_data.shape",
      "execution_count": null,
      "outputs": []
    },
    {
      "metadata": {
        "_cell_guid": "fce5e3dd-20a8-4a8f-bc75-a4132fa200f5",
        "_uuid": "672feb24533c6778f7f396dde3686e089274fc5d",
        "trusted": true,
        "collapsed": true
      },
      "cell_type": "code",
      "source": "# Plot Bar plot for both sexes corresponding to their deaths and survival.\n# Extract data values.\nfemale =  train_data['Sex'].str.contains('female')\nmale =  (train_data['Sex'] == 'male')\nsurvived = train_data['Survived'].values == 1\ndied = train_data['Survived'].values == 0\n\nfemale_death = train_data[female & died]\nmale_death = train_data[male & died]\nfemale_survived = train_data[female & survived]\nmale_survived = train_data[male & survived]\n\nplt.bar(['F: Died', 'F: Survived','M: Died', 'M: Survived'], [len(female_death),len(female_survived),len(male_death),len(male_survived)] ,align='center')\nplt.xlabel('Distribution of survival by sex')\nplt.ylabel('# of People')\nplt.title('Barplot example')\n\nplt.grid(True)\nplt.show()\nlen(female_death)+len(female_survived)+len(male_death)+len(male_survived)\n#[len(female_death),len(female_survived),len(male_death),len(male_survived)]\n",
      "execution_count": null,
      "outputs": []
    },
    {
      "metadata": {
        "_cell_guid": "9d1b27ff-390e-4d25-a866-5596bf442de0",
        "_uuid": "eae7a36532e373036d02a47f008644a3a28a4c71",
        "trusted": true,
        "collapsed": true
      },
      "cell_type": "code",
      "source": "# PLot survival with respect to age groups: (0-18,18-50,>50)\nsurvived = train_data['Survived'].values == 1\ndied = train_data['Survived'].values == 0\n\nchildren = train_data['Age']<18\nadult = (train_data['Age']<50) & (train_data['Age']>=18)\n#adult2 = train_data['Age']>=18\n#adult = train_data[adult1]\n#adult\nold = train_data['Age']>=50\n\nchildren_died = train_data[children & died]\nchildren_survived = train_data[children & survived]\nadult_died = train_data[adult & died]\nadult_survived = train_data[adult & survived]\nold_died = train_data[old & died]\nold_survived = train_data[old & survived]\n\nplt.bar(['C: Died', 'C: Survived','A: Died', 'A: Survived', 'O: Died', 'O: Survived'], [len(children_died),len(children_survived),len(adult_died),len(adult_survived),len(old_died),len(old_survived)] ,align='center')\nplt.xlabel('Distribution of survival by Age groups')\nplt.ylabel('# of People')\nplt.title('Barplot example')\n\nplt.grid(True)\nplt.show()\n# The sum of all these values do not add upto 891 because there are values with NaN in ages.\n[len(children_died),len(children_survived),len(adult_died),len(adult_survived),len(old_died),len(old_survived)]\ntrain_data[adult].mean()",
      "execution_count": null,
      "outputs": []
    },
    {
      "metadata": {
        "_cell_guid": "9cdf6654-63f9-4c0b-866e-8c23fae81ad1",
        "_uuid": "221b3895b17a02d9538cc81ee1e75bfdfbf72490",
        "trusted": true,
        "collapsed": true
      },
      "cell_type": "code",
      "source": "# train_data['Pclass'].isnull().values\n# Survival rate by Passenger class\nclass_3 = train_data['Pclass'] == 3\nclass_2 = train_data['Pclass'] == 2\nclass_1 = train_data['Pclass'] == 1\n\nclass_3_died = train_data[class_3 & died]\nclass_3_survived = train_data[class_3 & survived]\nclass_2_died = train_data[class_2 & died]\nclass_2_survived = train_data[class_2 & survived]\nclass_1_died = train_data[class_1 & died]\nclass_1_survived = train_data[class_1 & survived]\n\nplt.bar(['3: Died', '3: Survived','2: Died', '2: Survived', '1: Died', '1: Survived'], [len(class_3_died),len(class_3_survived),len(class_2_died),len(class_2_survived),len(class_1_died),len(class_1_survived)] ,align='center')\nplt.xlabel('Distribution of survival by Passenger Class')\nplt.ylabel('# of People')\nplt.title('Barplot example')\n\nplt.grid(True)\nplt.show()",
      "execution_count": null,
      "outputs": []
    },
    {
      "metadata": {
        "trusted": true,
        "collapsed": true,
        "_uuid": "f737c0117d320d8f0806ff0db19e62147200f627"
      },
      "cell_type": "code",
      "source": "## Now let's build the classifier\n## Delete the columns providing redundant or unuseful information for survival classification\nuseful_train_data =  train_data.copy()\ndel useful_train_data['Ticket']\ndel useful_train_data['Fare']\ndel useful_train_data['Cabin']\ndel useful_train_data['Embarked']\nuseful_train_data.columns\nuseful_train_data['Sex'] = (useful_train_data['Sex'] == 'male')*1",
      "execution_count": null,
      "outputs": []
    },
    {
      "metadata": {
        "trusted": true,
        "_uuid": "6d61bd6ea38a6a5f9275bef7f028fb0d58530cf9",
        "collapsed": true
      },
      "cell_type": "code",
      "source": "## Drop any row which contains NaN values\nuseful_train_data = useful_train_data.dropna()\n#useful_train_data['Age'].isnull().any()\nuseful_train_data.columns",
      "execution_count": null,
      "outputs": []
    },
    {
      "metadata": {
        "trusted": true,
        "collapsed": true,
        "_uuid": "6ae9cbe18366595a3ee53812564fe38499f3e8ca"
      },
      "cell_type": "code",
      "source": "## \ny_train = useful_train_data['Survived'].copy()\ndecisive_features = ['Pclass', 'Sex', 'Age', 'SibSp','Parch']\nX_train = useful_train_data[decisive_features].copy()\n",
      "execution_count": null,
      "outputs": []
    },
    {
      "metadata": {
        "trusted": true,
        "_uuid": "6b01c44c81b67337a17032c59f1988f830da162b",
        "collapsed": true
      },
      "cell_type": "code",
      "source": "X_train",
      "execution_count": null,
      "outputs": []
    },
    {
      "metadata": {
        "trusted": true,
        "_uuid": "37261efe9683ec842e2ac67d451c8660fab2de4f",
        "collapsed": true
      },
      "cell_type": "code",
      "source": "survival_classifier = DecisionTreeClassifier(max_leaf_nodes=10, random_state=0)\nsurvival_classifier.fit(X_train, y_train)",
      "execution_count": null,
      "outputs": []
    },
    {
      "metadata": {
        "trusted": true,
        "_uuid": "081c2f9026fd1755eec092c760c09bca85fd83c3",
        "collapsed": true
      },
      "cell_type": "code",
      "source": "type(survival_classifier)",
      "execution_count": null,
      "outputs": []
    },
    {
      "metadata": {
        "trusted": true,
        "_uuid": "e634643af9e6b5c4969df21107ae66f84a66843e",
        "collapsed": true
      },
      "cell_type": "code",
      "source": "## Predict the results on test data\n## First clean the test data also similar to train data\ntest_data[test_data['Name'].str.contains('Master')]",
      "execution_count": null,
      "outputs": []
    },
    {
      "metadata": {
        "trusted": true,
        "_uuid": "4e370de88fbd358a7d0157825d96307c9bb2f03a",
        "collapsed": true
      },
      "cell_type": "code",
      "source": "useful_test_data = test_data.copy()\ndel useful_test_data['Ticket']\ndel useful_test_data['Fare']\ndel useful_test_data['Cabin']\ndel useful_test_data['Embarked']\nuseful_test_data.columns\nuseful_test_data['Sex'] = (useful_test_data['Sex'] == 'male')*1\n\n## Do not Drop any row which contains NaN values\n#useful_test_data = useful_test_data.dropna()\nuseful_test_data['Age'].isnull().any()\n#useful_test_data.columns\n## Fix null values\nnull_child_boy = (useful_test_data['Name'].str.contains('Master') & useful_test_data['Age'].isnull())\nnull_adult = ((useful_test_data['Name'].str.contains('Ms.') | useful_test_data['Name'].str.contains('Miss') | useful_test_data['Name'].str.contains('Mr'))& useful_test_data['Age'].isnull())\nuseful_test_data.loc[null_child_boy, 'Age'] = 5#._update_inplace(30)\n#child_fix['Age']\n#adult_fix = useful_test_data.loc[null_adult]\nuseful_test_data.loc[null_adult, 'Age'] = 30#._update_inplace(30)\nuseful_test_data[useful_test_data['Name'].str.contains('Master')]\n\nuseful_test_data.isnull().any()\n\n",
      "execution_count": null,
      "outputs": []
    },
    {
      "metadata": {
        "trusted": true,
        "collapsed": true,
        "_uuid": "fdb9eaceabb32a9f6e27aeb66b62eb7f1fdb7aaa"
      },
      "cell_type": "code",
      "source": "#y_test = useful_test_data['Survived'].copy()\ndecisive_features = ['Pclass', 'Sex', 'Age', 'SibSp','Parch']\nX_test = useful_test_data[decisive_features].copy()\n",
      "execution_count": null,
      "outputs": []
    },
    {
      "metadata": {
        "trusted": true,
        "_uuid": "3297d2604eea602f3a341a359f3edda5cac4ee07",
        "collapsed": true
      },
      "cell_type": "code",
      "source": "predictions = survival_classifier.predict(X_test)",
      "execution_count": null,
      "outputs": []
    },
    {
      "metadata": {
        "trusted": true,
        "collapsed": true,
        "_uuid": "217976a483ea53d4da17cff1bc96f3d20adb2a1b"
      },
      "cell_type": "code",
      "source": "data_to_submit = pd.DataFrame({'PassengerId': useful_test_data['PassengerId'], 'Survived': predictions})",
      "execution_count": null,
      "outputs": []
    },
    {
      "metadata": {
        "trusted": true,
        "_uuid": "048dfc7043d32014210b1bba54ee124702b1f080",
        "collapsed": true
      },
      "cell_type": "code",
      "source": "data_to_submit.shape",
      "execution_count": null,
      "outputs": []
    },
    {
      "metadata": {
        "collapsed": true,
        "trusted": true,
        "_uuid": "1e75ec55ef1722b48b956f011aa8563515bbcdf7"
      },
      "cell_type": "code",
      "source": "data_to_submit.to_csv('csv_to_submit.csv', index = False)",
      "execution_count": null,
      "outputs": []
    },
    {
      "metadata": {
        "trusted": true,
        "collapsed": true,
        "_uuid": "eb0244c47ef7d439ff2e1951326cf751d91dede5"
      },
      "cell_type": "code",
      "source": "",
      "execution_count": null,
      "outputs": []
    }
  ],
  "metadata": {
    "kernelspec": {
      "display_name": "Python 3",
      "language": "python",
      "name": "python3"
    },
    "language_info": {
      "name": "python",
      "version": "3.6.5",
      "mimetype": "text/x-python",
      "codemirror_mode": {
        "name": "ipython",
        "version": 3
      },
      "pygments_lexer": "ipython3",
      "nbconvert_exporter": "python",
      "file_extension": ".py"
    }
  },
  "nbformat": 4,
  "nbformat_minor": 1
}